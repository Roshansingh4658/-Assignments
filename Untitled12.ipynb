{
 "cells": [
  {
   "cell_type": "code",
   "execution_count": 1,
   "id": "c9b507ec",
   "metadata": {},
   "outputs": [
    {
     "name": "stdout",
     "output_type": "stream",
     "text": [
      "Before swap x: 15 and y: 19\n",
      "After swap x: 19 and y: 15\n"
     ]
    }
   ],
   "source": [
    "\n",
    "x = 15\n",
    "y = 19\n",
    "\n",
    "def swap_variables(x,y):\n",
    "  print(f\"Before swap x: {x} and y: {y}\")\n",
    "  x,y = y, x\n",
    "  print(f\"After swap x: {x} and y: {y}\")\n",
    "\n",
    "swap_variables(x,y)"
   ]
  },
  {
   "cell_type": "code",
   "execution_count": null,
   "id": "c42652bc",
   "metadata": {},
   "outputs": [],
   "source": [
    "length = float(input(\"Enter the length of the rectangle: \")) # Taking user input for length and converting it to a floating-point number\n",
    "width = float(input(\"Enter the width of the rectangle: \"))   # Taking user input for width and converting it to a floating-point number\n",
    "\n",
    "area = length * width \n",
    "\n",
    "print(\"The area of the rectangle is:\", area) "
   ]
  },
  {
   "cell_type": "code",
   "execution_count": null,
   "id": "61853add",
   "metadata": {},
   "outputs": [],
   "source": [
    "# Get temperature in Celsius from the user\n",
    "celsius_temperature = float(input(\"Enter temperature in Celsius: \"))\n",
    "\n",
    "# Convert Celsius to Fahrenheit\n",
    "fahrenheit_temperature = (celsius_temperature * 9/5) + 32\n",
    "\n",
    "# Print the result\n",
    "print(f\"{celsius_temperature} Celsius is equal to {fahrenheit_temperature:.2f} Fahrenheit\")\n",
    "\n"
   ]
  },
  {
   "cell_type": "markdown",
   "id": "5fc4661a",
   "metadata": {},
   "source": [
    "String based questions"
   ]
  },
  {
   "cell_type": "code",
   "execution_count": null,
   "id": "52c1745b",
   "metadata": {},
   "outputs": [],
   "source": [
    "user_input = input(\"Enter a string: \")\n",
    "\n",
    "# Calculate and print the length of the string\n",
    "string_length = len(user_input)\n",
    "print(f\"The length of the entered string is: {string_length}\")"
   ]
  },
  {
   "cell_type": "code",
   "execution_count": null,
   "id": "7c0830fc",
   "metadata": {},
   "outputs": [],
   "source": [
    "user_sentence = input(\"Enter a sentence: \")\n",
    "\n",
    "# Initialize a variable to count the number of vowels\n",
    "vowel_count = 0\n",
    "\n",
    "# Define the set of vowels\n",
    "vowels = \"aeiou\"\n",
    "\n",
    "# Iterate through each character in the sentence\n",
    "for char in user_sentence:\n",
    "    # Check if the character is a vowel (case-insensitive)\n",
    "    if char.lower() in vowels:\n",
    "        vowel_count += 1\n",
    "\n",
    "# Print the result\n",
    "print(f\"The number of vowels in the entered sentence is: {vowel_count}\")\n"
   ]
  },
  {
   "cell_type": "code",
   "execution_count": null,
   "id": "de998814",
   "metadata": {},
   "outputs": [],
   "source": [
    "# Get a string input from the user\n",
    "user_input = input(\"Enter a string: \")\n",
    "\n",
    "# Reverse the string using slicing\n",
    "reversed_string = user_input[::-1]\n",
    "\n",
    "# Print the reversed string\n",
    "print(f\"The reversed string is: {reversed_string}\")\n"
   ]
  },
  {
   "cell_type": "code",
   "execution_count": null,
   "id": "a398d1ad",
   "metadata": {},
   "outputs": [],
   "source": [
    "# Get a string input from the user\n",
    "user_input = input(\"Enter a string: \")\n",
    "\n",
    "# Remove spaces and convert to lowercase for case-insensitive comparison\n",
    "cleaned_input = user_input.replace(\" \", \"\").lower()\n",
    "\n",
    "# Check if the cleaned string is equal to its reverse\n",
    "if cleaned_input == cleaned_input[::-1]:\n",
    "    print(f\"The entered string '{user_input}' is a palindrome.\")\n",
    "else:\n",
    "    print(f\"The entered string '{user_input}' is not a palindrome.\")"
   ]
  },
  {
   "cell_type": "code",
   "execution_count": null,
   "id": "084ba537",
   "metadata": {},
   "outputs": [],
   "source": [
    "# Remove spaces and convert to lowercase for case-insensitive comparison\n",
    "cleaned_input = user_input.replace(\" \", \"\").lower()\n",
    "\n",
    "# Check if the cleaned string is equal to its reverse\n",
    "if cleaned_input == cleaned_input[::-1]:\n",
    "    print(f\"The entered string '{user_input}' is a palindrome.\")\n",
    "else:\n",
    "    print(f\"The entered string '{user_input}' is not a palindrome.\")"
   ]
  },
  {
   "cell_type": "code",
   "execution_count": null,
   "id": "c94c7c9f",
   "metadata": {},
   "outputs": [],
   "source": []
  }
 ],
 "metadata": {
  "kernelspec": {
   "display_name": "Python 3 (ipykernel)",
   "language": "python",
   "name": "python3"
  },
  "language_info": {
   "codemirror_mode": {
    "name": "ipython",
    "version": 3
   },
   "file_extension": ".py",
   "mimetype": "text/x-python",
   "name": "python",
   "nbconvert_exporter": "python",
   "pygments_lexer": "ipython3",
   "version": "3.11.5"
  }
 },
 "nbformat": 4,
 "nbformat_minor": 5
}
